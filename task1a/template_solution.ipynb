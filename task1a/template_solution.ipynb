{
 "cells": [
  {
   "cell_type": "markdown",
   "metadata": {},
   "source": [
    "#### General guidance\n",
    "\n",
    "This serves as a template which will guide you through the implementation of this task. It is advised\n",
    "to first read the whole template and get a sense of the overall structure of the code before trying to fill in any of the TODO gaps.\n",
    "This is the jupyter notebook version of the template. For the python file version, please refer to the file `template_solution.py`.\n",
    "\n",
    "First, we import necessary libraries:"
   ]
  },
  {
   "cell_type": "code",
   "execution_count": 1,
   "metadata": {
    "ExecuteTime": {
     "end_time": "2024-03-27T15:53:19.533231Z",
     "start_time": "2024-03-27T15:53:17.963196Z"
    }
   },
   "outputs": [],
   "source": [
    "import pandas as pd\n",
    "import numpy as np\n",
    "from sklearn.linear_model import Ridge\n",
    "from sklearn.model_selection import KFold\n",
    "import sklearn as sk\n",
    "\n",
    "# Add any additional imports here (however, the task is solvable without using \n",
    "# any additional imports)\n",
    "# import ...\n",
    "\n",
    "rng = np.random.default_rng(1234567890)"
   ]
  },
  {
   "cell_type": "markdown",
   "metadata": {},
   "source": [
    " #### Loading data"
   ]
  },
  {
   "cell_type": "code",
   "execution_count": 2,
   "metadata": {
    "ExecuteTime": {
     "end_time": "2024-03-27T15:53:19.560851Z",
     "start_time": "2024-03-27T15:53:19.536609Z"
    }
   },
   "outputs": [
    {
     "name": "stdout",
     "output_type": "stream",
     "text": [
      "         x1   x2     x3   x4     x5     x6     x7      x8    x9    x10   x11  \\\n",
      "0   0.06724  0.0   3.24  0.0  0.460  6.333   17.2  5.2146   4.0  430.0  16.9   \n",
      "1   9.23230  0.0  18.10  0.0  0.631  6.216  100.0  1.1691  24.0  666.0  20.2   \n",
      "2   0.11425  0.0  13.89  1.0  0.550  6.373   92.4  3.3633   5.0  276.0  16.4   \n",
      "3  24.80170  0.0  18.10  0.0  0.693  5.349   96.0  1.7028  24.0  666.0  20.2   \n",
      "4   0.05646  0.0  12.83  0.0  0.437  6.232   53.7  5.0141   5.0  398.0  18.7   \n",
      "\n",
      "      x12    x13  \n",
      "0  375.21   7.34  \n",
      "1  366.15   9.53  \n",
      "2  393.74  10.50  \n",
      "3  396.90  19.77  \n",
      "4  386.40  12.34  \n"
     ]
    }
   ],
   "source": [
    "data = pd.read_csv(\"train.csv\")\n",
    "y = data[\"y\"].to_numpy()\n",
    "data = data.drop(columns=\"y\")\n",
    "# print a few data samples\n",
    "print(data.head())"
   ]
  },
  {
   "cell_type": "markdown",
   "metadata": {},
   "source": [
    "#### Calculating the average RMSE"
   ]
  },
  {
   "cell_type": "code",
   "execution_count": 3,
   "metadata": {
    "collapsed": false,
    "ExecuteTime": {
     "end_time": "2024-03-27T15:53:19.571219Z",
     "start_time": "2024-03-27T15:53:19.563376Z"
    }
   },
   "outputs": [],
   "source": [
    "def calculate_RMSE(w, X, y):\n",
    "    \"\"\"This function takes test data points (X and y), and computes the empirical RMSE of \n",
    "    predicting y from X using a linear model with weights w. \n",
    "\n",
    "    Parameters\n",
    "    ----------\n",
    "    w: array of floats: dim = (13,), optimal parameters of ridge regression \n",
    "    X: matrix of floats, dim = (15,13), inputs with 13 features\n",
    "    y: array of floats, dim = (15,), input labels\n",
    "\n",
    "    Returns\n",
    "    ----------\n",
    "    RMSE: float: dim = 1, RMSE value\n",
    "    \"\"\"\n",
    "    # TODO: Enter your code here\n",
    "    assert w.shape == (13,)\n",
    "    assert X.shape == (15,13)\n",
    "    assert y.shape == (15,)\n",
    "    delta = y - (X @ w)\n",
    "    sumSqErr = delta.transpose() @ delta\n",
    "    mse = sumSqErr / 15\n",
    "    RMSE = np.sqrt(mse)\n",
    "    assert np.isscalar(RMSE)\n",
    "    return RMSE\n"
   ]
  },
  {
   "cell_type": "markdown",
   "source": [
    "#### Testing Functions"
   ],
   "metadata": {
    "collapsed": false
   }
  },
  {
   "cell_type": "code",
   "outputs": [],
   "source": [
    "# dummyw = np.zeros((13,1))"
   ],
   "metadata": {
    "collapsed": false,
    "ExecuteTime": {
     "end_time": "2024-03-27T15:53:19.594631Z",
     "start_time": "2024-03-27T15:53:19.574454Z"
    }
   },
   "execution_count": 4
  },
  {
   "cell_type": "code",
   "outputs": [],
   "source": [
    "# print('dummyw shape: ', '\\n', dummyw.shape)\n",
    "# unit = np.identity(13)\n",
    "# \n",
    "# unit = np.vstack((unit, np.zeros((2,13))))\n",
    "# print('unit shape: ', '\\n', unit.shape)\n",
    "# ydummy = np.ones((15,1))\n",
    "# print('ydummy shape: ', '\\n', ydummy.shape)\n",
    "# \n",
    "# rmse = calculate_RMSE(dummyw, unit, ydummy)\n",
    "# print('rmse: ', rmse)\n"
   ],
   "metadata": {
    "ExecuteTime": {
     "end_time": "2024-03-27T15:53:19.610646Z",
     "start_time": "2024-03-27T15:53:19.598057Z"
    }
   },
   "execution_count": 5
  },
  {
   "cell_type": "code",
   "outputs": [],
   "source": [
    "# def merge_Xpartition(split, i, n_folds):\n",
    "#     \"\"\"\n",
    "#     Parameters\n",
    "#     split : Array of Matrices spliting training data in to nfolds blocks\n",
    "#     i : ith iteration of crossvaidation\n",
    "#     n_folds : int\n",
    "# \n",
    "#     Returns\n",
    "#     -------\n",
    "#     nfolds-1 blocks merged (ommiting the ith)\n",
    "#     \"\"\"\n",
    "#     assert i < n_folds\n",
    "#     partition = np.empty((0,13))\n",
    "#     \n",
    "#     for j in range(n_folds):\n",
    "#         if i != j:\n",
    "#             partition = np.concatenate((partition, split[j]))\n",
    "#             \n",
    "#     return partition\n",
    "#     \n"
   ],
   "metadata": {
    "collapsed": false,
    "ExecuteTime": {
     "end_time": "2024-03-27T15:53:19.623371Z",
     "start_time": "2024-03-27T15:53:19.613546Z"
    }
   },
   "execution_count": 6
  },
  {
   "cell_type": "code",
   "outputs": [],
   "source": [
    "# def merge_Ypartition(split, i, n_folds):\n",
    "#     \"\"\"\n",
    "#     Parameters\n",
    "#     split : Array of Matrices spliting training data in to nfolds blocks\n",
    "#     i : ith iteration of crossvaidation\n",
    "#     n_folds : int\n",
    "# \n",
    "#     Returns\n",
    "#     -------\n",
    "#     nfolds-1 blocks merged (ommiting the ith)\n",
    "#     \"\"\"\n",
    "#     assert i < n_folds\n",
    "#     partition = np.empty(0)\n",
    "#     \n",
    "#     for j in range(n_folds):\n",
    "#         if i != j:\n",
    "#             partition = np.concatenate((partition, split[j]))\n",
    "#             \n",
    "#     return partition\n",
    "#     \n",
    "    "
   ],
   "metadata": {
    "collapsed": false,
    "ExecuteTime": {
     "end_time": "2024-03-27T15:53:19.646040Z",
     "start_time": "2024-03-27T15:53:19.626627Z"
    }
   },
   "execution_count": 7
  },
  {
   "cell_type": "code",
   "outputs": [],
   "source": [
    "def merge_XYpartition(split, i, n_folds):\n",
    "    \"\"\"\n",
    "    Parameters\n",
    "    split : Array of Matrices spliting training data in to nfolds blocks\n",
    "    i : ith iteration of crossvaidation\n",
    "    n_folds : int\n",
    "\n",
    "    Returns\n",
    "    -------\n",
    "    nfolds-1 blocks merged (ommiting the ith)\n",
    "    \"\"\"\n",
    "    assert i < n_folds\n",
    "    # print(split.shape)\n",
    "    # assert split.shape == (150,14)\n",
    "\n",
    "    partition = np.empty((0,14))\n",
    "\n",
    "    for j in range(n_folds):\n",
    "        if i != j:\n",
    "            partition = np.concatenate((partition, split[j]))\n",
    "\n",
    "    # print(partition.shape)\n",
    "    xs = partition[0:150,0:13]\n",
    "    ys = partition[0:150,13]\n",
    "    # print(\"xsshape:\",xs.shape)\n",
    "    # print(\"ysshape:\",ys.shape)\n",
    "    return xs,ys\n"
   ],
   "metadata": {
    "collapsed": false,
    "ExecuteTime": {
     "end_time": "2024-03-27T15:53:19.664389Z",
     "start_time": "2024-03-27T15:53:19.648937Z"
    }
   },
   "execution_count": 8
  },
  {
   "cell_type": "markdown",
   "source": [
    "#### Fitting the regressor"
   ],
   "metadata": {}
  },
  {
   "cell_type": "code",
   "outputs": [],
   "source": [
    "def fit(X, y, lam):\n",
    "    \"\"\"\n",
    "    This function receives training data points, then fits the ridge regression on this data\n",
    "    with regularization hyperparameter lambda. The weights w of the fitted ridge regression\n",
    "    are returned. \n",
    "\n",
    "    Parameters\n",
    "    ----------\n",
    "    X: matrix of floats, dim = (135,13), inputs with 13 features\n",
    "    y: array of floats, dim = (135,), input labels)\n",
    "    lam: float. lambda parameter, used in regularization term\n",
    "\n",
    "    Returns\n",
    "    ----------\n",
    "    w: array of floats: dim = (13,), optimal parameters of ridge regression\n",
    "    \"\"\"\n",
    "    w = np.zeros((13,))\n",
    "    \n",
    "    # TODO: Enter your code here\n",
    "    assert X.shape == (135,13)\n",
    "    assert y.shape == (135,)\n",
    "   \n",
    "   #  INIT RIDGE MODEL\n",
    "    ridge_reg = Ridge(alpha=lam, fit_intercept=False, copy_X=True, max_iter=None, tol=0.0000001, solver='auto', positive=False, random_state=None)\n",
    "    ridge_reg.fit(X, y)\n",
    "    w = ridge_reg.coef_\n",
    "    # print(\"weights:\",weights)\n",
    "    # print(weights.shape)\n",
    "    \n",
    "    assert w.shape == (13,)\n",
    "    return w"
   ],
   "metadata": {
    "collapsed": false,
    "ExecuteTime": {
     "end_time": "2024-03-27T15:53:19.685877Z",
     "start_time": "2024-03-27T15:53:19.667212Z"
    }
   },
   "execution_count": 9
  },
  {
   "cell_type": "markdown",
   "metadata": {},
   "source": [
    "#### Setup for computation"
   ]
  },
  {
   "cell_type": "code",
   "execution_count": 10,
   "metadata": {
    "collapsed": false,
    "ExecuteTime": {
     "end_time": "2024-03-27T15:53:19.704677Z",
     "start_time": "2024-03-27T15:53:19.691654Z"
    }
   },
   "outputs": [],
   "source": [
    "\"\"\"\n",
    "Main cross-validation loop, implementing 10-fold CV. In every iteration \n",
    "(for every train-test split), the RMSE for every lambda is calculated, \n",
    "and then averaged over iterations.\n",
    "\n",
    "Parameterspartition, split[j]\n",
    "---------- \n",
    "X: matrix of floats, dim = (150, 13), inputs with 13 features\n",
    "y: array of floats, dim = (150, ), input labels\n",
    "lambdas: list of floats, len = 5, values of lambda for which ridge regression is fitted and RMSE estimated\n",
    "n_folds: int, number of folds (pieces in which we split the dataset), parameter K in KFold CV\n",
    "\n",
    "Compute\n",
    "----------\n",
    "avg_RMSE: array of floats: dim = (5,), average RMSE value for every lambda\n",
    "\"\"\"\n",
    "\n",
    "# SETUP\n",
    "X = data.to_numpy()\n",
    "# The function calculating the average RMSE\n",
    "lambdas = [0.1, 1, 10, 100, 200]\n",
    "n_lambdas = len(lambdas)\n",
    "n_folds = 10\n",
    "\n",
    "# OLD WAY OF SPLITTING X AND Y SEPERATELY (WOULD HAVE ALSO WORKED)\n",
    "# Xsplit = np.array_split(X,n_folds)\n",
    "# Ysplit = np.array_split(y,n_folds)\n",
    "\n",
    "RMSE_mat = np.zeros((n_folds, len(lambdas)))\n",
    "\n",
    "# CONCATENATING X AND Y BEFORE PARTITIONING\n",
    "y = y.reshape(150,1)\n",
    "XY = np.hstack((X,y))\n",
    "y = y.reshape(150,)\n",
    "XYSplit = np.array_split(XY,n_folds)\n",
    "\n"
   ]
  },
  {
   "cell_type": "markdown",
   "source": [
    "#### Performing computation"
   ],
   "metadata": {
    "collapsed": false
   }
  },
  {
   "cell_type": "code",
   "execution_count": 11,
   "metadata": {
    "ExecuteTime": {
     "end_time": "2024-03-27T15:53:19.791900Z",
     "start_time": "2024-03-27T15:53:19.707034Z"
    }
   },
   "outputs": [
    {
     "name": "stdout",
     "output_type": "stream",
     "text": [
      "avgRMSE: \n",
      " [5.5036383  5.48040028 5.46988555 5.93193113 6.2433465 ]\n"
     ]
    }
   ],
   "source": [
    "#Computation\n",
    "# TODO: Enter your code here. Hint: Use functions 'fit' and 'calculate_RMSE' with training and test data\n",
    "# and fill all entries in the matrix 'RMSE_mat'\n",
    "\n",
    "#SPLIT TRAINING DATA AND TEST DATA\n",
    "print()\n",
    "\n",
    "\n",
    "\n",
    "#TRAIN FOR EACH FOLD\n",
    "for i in range(n_folds):\n",
    "    \n",
    "    # #ORIGINAL WAY OF SPLITTING\n",
    "    # Xi, Yi = merge_Xpartition(Xsplit, i ,n_folds), merge_Ypartition(Ysplit, i, n_folds)\n",
    "    # TXi, TYi = Xsplit[i], Ysplit[i]\n",
    "    \n",
    "    # TRYINIG DIFFERENT WAY OF SPLITTING\n",
    "    Xi, Yi = merge_XYpartition(XYSplit,i,n_folds)\n",
    "    TXYi = XYSplit[i]\n",
    "    TXi, TYi = TXYi[0:15,0:13], TXYi[0:15,13]\n",
    "    \n",
    "    \n",
    "    assert Xi.shape == (135,13)\n",
    "    assert TXi.shape == (15,13)\n",
    "    assert Yi.shape == (135,)\n",
    "    assert TYi.shape == (15,)\n",
    "    for l in range(n_lambdas):\n",
    "        lam = lambdas[l]\n",
    "        w = fit(Xi, Yi, lam)\n",
    "        #Compute RMSE on test data\n",
    "        RMSE_mat[i][l] = calculate_RMSE(w,TXi,TYi)\n",
    "\n",
    "\n",
    "# print(\"RMSE_mat:\\n\",RMSE_mat)\n",
    "avg_RMSE = np.mean(RMSE_mat, axis=0) # avg_RMSE: array of floats: dim = (5,), average RMSE value for every lambda\n",
    "print(\"avgRMSE: \\n\", avg_RMSE)\n",
    "assert avg_RMSE.shape == (5,)\n",
    "\n",
    "# Save results in the required format\n",
    "np.savetxt(\"./results.csv\", avg_RMSE, fmt=\"%.12f\")"
   ]
  },
  {
   "cell_type": "code",
   "outputs": [],
   "source": [],
   "metadata": {
    "collapsed": false,
    "ExecuteTime": {
     "end_time": "2024-03-27T15:53:19.798019Z",
     "start_time": "2024-03-27T15:53:19.794409Z"
    }
   },
   "execution_count": 11
  },
  {
   "cell_type": "code",
   "outputs": [],
   "source": [
    "# PREVIOUS VALUES \n",
    "# SCORE: 8900\n",
    "# [ 92.00570599  73.48037377  88.43292605 139.51550811 141.70518924] \n",
    "# SCORE: 1900\n",
    "# [23.75577114 18.97255093 22.83328332 36.0227493  36.58812253]"
   ],
   "metadata": {
    "ExecuteTime": {
     "end_time": "2024-03-27T15:53:19.806467Z",
     "start_time": "2024-03-27T15:53:19.801251Z"
    }
   },
   "execution_count": 12
  }
 ],
 "metadata": {
  "kernelspec": {
   "display_name": ".venv",
   "language": "python",
   "name": "python3"
  },
  "language_info": {
   "codemirror_mode": {
    "name": "ipython",
    "version": 3
   },
   "file_extension": ".py",
   "mimetype": "text/x-python",
   "name": "python",
   "nbconvert_exporter": "python",
   "pygments_lexer": "ipython3",
   "version": "3.10.12"
  }
 },
 "nbformat": 4,
 "nbformat_minor": 2
}
