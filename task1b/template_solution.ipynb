{
 "cells": [
  {
   "cell_type": "markdown",
   "metadata": {},
   "source": [
    "#### General guidance\n",
    "\n",
    "This serves as a template which will guide you through the implementation of this task. It is advised\n",
    "to first read the whole template and get a sense of the overall structure of the code before trying to fill in any of the TODO gaps.\n",
    "This is the jupyter notebook version of the template. For the python file version, please refer to the file `template_solution.py`.\n",
    "\n",
    "First, we import necessary libraries:"
   ]
  },
  {
   "cell_type": "code",
   "execution_count": 2,
   "metadata": {
    "ExecuteTime": {
     "end_time": "2024-03-27T16:07:28.298565Z",
     "start_time": "2024-03-27T16:07:27.715508Z"
    }
   },
   "outputs": [],
   "source": [
    "import numpy as np\n",
    "import pandas as pd\n",
    "import sklearn as sk\n",
    "import sklearn.linear_model as skl\n",
    "\n",
    "# Add any additional imports here (however, the task is solvable without using \n",
    "# any additional imports)\n",
    "# import ..."
   ]
  },
  {
   "cell_type": "markdown",
   "metadata": {},
   "source": [
    " #### Loading data"
   ]
  },
  {
   "cell_type": "code",
   "execution_count": 3,
   "metadata": {
    "collapsed": false,
    "ExecuteTime": {
     "end_time": "2024-03-27T16:07:28.316282Z",
     "start_time": "2024-03-27T16:07:28.305348Z"
    }
   },
   "outputs": [
    {
     "name": "stdout",
     "output_type": "stream",
     "text": [
      "     x1    x2    x3    x4    x5\n",
      "0  0.02  0.05 -0.09 -0.43 -0.08\n",
      "1 -0.13  0.11 -0.08 -0.29 -0.03\n",
      "2  0.08  0.06 -0.07 -0.41 -0.03\n",
      "3  0.02 -0.12  0.01 -0.43 -0.02\n",
      "4 -0.14 -0.12 -0.08 -0.02 -0.08\n",
      "(700, 5)\n"
     ]
    }
   ],
   "source": [
    "data = pd.read_csv(\"train.csv\")\n",
    "y = data[\"y\"].to_numpy()\n",
    "data = data.drop(columns=[\"Id\", \"y\"])\n",
    "# print a few data samples\n",
    "print(data.head())\n",
    "X = data.to_numpy()\n",
    "print(X.shape)\n"
   ]
  },
  {
   "cell_type": "code",
   "outputs": [],
   "source": [
    "\"\"\"\n",
    "takes a horizontal 1x5 vector as input an returns a 1x21 vector\n",
    "\"\"\"\n",
    "def transform_row(v):\n",
    "    tv = np.zeros((1,21))\n",
    "    tv[0][0:5] = v    \n",
    "    tv[0][5:10] = np.square(v)\n",
    "    tv[0][10:15] = np.exp(v)\n",
    "    tv[0][15:20] = np.cos(v)\n",
    "    tv[0][20] = 1\n",
    "    # print(tv)\n",
    "    return tv\n",
    "    \n",
    "    "
   ],
   "metadata": {
    "ExecuteTime": {
     "end_time": "2024-03-27T16:07:28.330098Z",
     "start_time": "2024-03-27T16:07:28.317351Z"
    }
   },
   "execution_count": 4
  },
  {
   "cell_type": "markdown",
   "metadata": {},
   "source": [
    "#### Transform data"
   ]
  },
  {
   "cell_type": "code",
   "execution_count": 5,
   "metadata": {
    "ExecuteTime": {
     "end_time": "2024-03-27T16:07:28.350198Z",
     "start_time": "2024-03-27T16:07:28.331619Z"
    }
   },
   "outputs": [],
   "source": [
    "\"\"\"\n",
    "Transform the 5 input features of matrix X (x_i denoting the i-th component of X) \n",
    "into 21 new features phi(X) in the following manner:\n",
    "5 linear features: phi_1(X) = x_1, phi_2(X) = x_2, phi_3(X) = x_3, phi_4(X) = x_4, phi_5(X) = x_5\n",
    "5 quadratic features: phi_6(X) = x_1^2, phi_7(X) = x_2^2, phi_8(X) = x_3^2, phi_9(X) = x_4^2, phi_10(X) = x_5^2\n",
    "5 exponential features: phi_11(X) = exp(x_1), phi_12(X) = exp(x_2), phi_13(X) = exp(x_3), phi_14(X) = exp(x_4), phi_15(X) = exp(x_5)\n",
    "5 cosine features: phi_16(X) = cos(x_1), phi_17(X) = cos(x_2), phi_18(X) = cos(x_3), phi_19(X) = cos(x_4), phi_20(X) = cos(x_5)\n",
    "1 constant feature: phi_21(X)=1\n",
    "\n",
    "Parameters\n",
    "----------\n",
    "X: matrix of floats, dim = (700,5), inputs with 5 features\n",
    "\n",
    "Compute\n",
    "----------\n",
    "X_transformed: array of floats: dim = (700,21), transformed input with 21 features\n",
    "\"\"\"\n",
    "X_transformed = np.zeros((700, 21))\n",
    "\n",
    "\n",
    "    \n",
    "# TODO: Enter your code here\n",
    "for i in range(700):\n",
    "    X_transformed[i] = transform_row(X[i])\n",
    "    \n",
    "# print(X_transformed)\n",
    "assert X_transformed.shape == (700, 21)"
   ]
  },
  {
   "cell_type": "markdown",
   "metadata": {},
   "source": [
    "#### Fit data"
   ]
  },
  {
   "cell_type": "code",
   "execution_count": 6,
   "metadata": {
    "collapsed": false,
    "ExecuteTime": {
     "end_time": "2024-03-27T16:07:28.360700Z",
     "start_time": "2024-03-27T16:07:28.351336Z"
    }
   },
   "outputs": [
    {
     "name": "stdout",
     "output_type": "stream",
     "text": [
      "[ -6.82267935  -6.32629047  -9.30272825  -7.3718925   -6.027647\n",
      "  -8.44089064  -5.72998344  -7.54124475  -6.70476914  -7.48440329\n",
      "  -2.51599424  -6.16006699  -8.33514872  -4.59614446  -8.73864536\n",
      "  -5.84116948 -10.11650711  -8.94255801  -5.66682684  -4.84434154\n",
      "  -5.87328893  -6.51645627  -7.00682289  -9.39064276  -7.9239573\n",
      "  -7.30744627  -4.29600304  -5.52515761  -9.82705084  -5.91262789\n",
      "  -7.32245977  -8.0114618   -5.14276441  -4.2980488   -4.44135631\n",
      "  -7.91364854  -7.09357003  -5.66715944  -4.42024724  -7.30414984\n",
      "  -6.92361491  -8.6961307   -8.97856478  -4.81579979  -3.36310741\n",
      "  -6.08089298  -4.11285047  -5.39922091  -7.7798417   -5.36490463\n",
      "  -3.14627999  -6.49917653  -3.19267081 -11.46477271  -4.57905162\n",
      "  -6.013521    -6.98680681  -6.14042986 -10.25792856  -6.94006212\n",
      "  -5.50586002  -3.07566016  -7.29326067  -7.97414542  -7.40950161\n",
      "  -4.4984447   -5.69497058  -7.394787    -5.23906048  -6.30613342\n",
      "  -4.38620184  -7.84946884  -6.99093068  -7.11165702  -9.02943048\n",
      "  -5.44445491  -5.75735613  -6.34019107  -6.48174111  -9.14548098\n",
      "  -7.12679326  -6.99238328  -8.04105424  -6.43010516  -5.63090698\n",
      "  -2.81687084  -6.12030686  -5.91285565  -6.39820293 -10.15475044\n",
      "  -6.24387308  -6.12027076  -1.18722651  -6.55928409  -5.77032021\n",
      "  -6.32280085  -8.61858681  -4.33108212  -5.01337834  -4.42794566\n",
      "  -8.16372444  -3.5234973   -8.93045923  -4.66116259  -1.70247915\n",
      "  -8.49683622  -7.36687698  -6.12834266  -7.5799174   -9.60089583\n",
      "  -6.07923947  -8.53005945  -5.06749769  -8.08237759  -3.26565981\n",
      "  -7.8531067   -6.91103007  -4.55545261  -8.29598354  -5.66520622\n",
      "  -3.90404716  -9.53667525  -6.02333632  -5.90614439  -4.95182359\n",
      "  -8.78131567  -8.8513893   -5.44790243  -5.62051511  -5.59034929\n",
      "  -5.5831453   -7.69428795  -5.58402591  -5.77729982  -7.79590536\n",
      "  -2.69402564  -5.48939644  -8.78547798  -4.74392504  -8.16081975\n",
      "  -4.61023196  -4.05849279  -7.80591874  -4.31254339  -5.59709225\n",
      "  -4.51536232  -2.40392715  -6.92196703  -7.7509484   -7.9052343\n",
      "  -7.91392988  -6.41921243  -5.5060056   -5.75208449  -4.85045214\n",
      "  -6.13144398  -3.29293419  -7.03666193  -0.78295816  -5.29546956\n",
      "  -7.82507056  -8.25254044  -5.37754874  -6.82633756  -4.98071717\n",
      "  -5.52010454  -6.41730849  -8.14450441  -9.31896554  -7.33978789\n",
      "  -4.54171097  -5.93127574  -8.7206427   -5.88018824  -5.73340913\n",
      "  -8.01172825  -5.76364207  -5.97789146  -8.38773128  -5.49318322\n",
      "  -4.89340012  -4.02144377  -4.01691781  -9.16548331  -8.35529649\n",
      "  -5.35820524  -5.41311803  -5.38505299   1.33285824  -5.24953698\n",
      "  -4.17834694  -4.71665815  -4.976918    -7.05386457  -4.91990232\n",
      "  -7.77433101  -6.74544899  -7.56152295  -6.42410522  -1.64215673\n",
      " -10.15720523  -4.42175069  -9.56906887  -7.36453335  -4.31818731\n",
      "  -6.35573491  -8.35872099  -7.58996992  -4.74559694  -7.71557975\n",
      "  -5.86992526  -6.22383848  -7.63023266  -2.00235654  -5.21942786\n",
      " -10.28558267  -5.90153231  -7.63993761  -4.80894379  -7.9644909\n",
      "  -6.76490921  -5.43386732  -4.5280851   -8.32230759  -6.64725845\n",
      "  -7.37381924  -7.18547827  -2.33499036  -5.67478215  -8.61072428\n",
      "  -4.4315702   -2.02087781  -4.38072169  -9.35485172  -7.24768529\n",
      "  -3.62713346  -7.59695636  -5.29397857  -4.71531401  -8.18003255\n",
      "  -6.44402163 -12.71933344  -8.33061323  -6.48992674  -8.58265693\n",
      "  -3.05571285  -9.34663637  -6.84734357  -6.09960983  -3.54316946\n",
      "  -9.20181637  -4.05628231  -5.88712524  -8.17435167  -5.66093253\n",
      "  -5.40435575  -7.27318557  -5.97917178  -6.53761988  -6.05109055\n",
      "  -4.68688676  -2.961521    -8.81762694  -2.10151083  -9.64587065\n",
      "  -6.77371415  -4.94029683  -5.72543095  -7.69836802  -6.75685274\n",
      "  -7.1318501   -7.5797662   -4.77545206  -5.64389062  -7.36919235\n",
      "  -4.50346065  -5.97423778  -4.70051289  -5.03239763  -7.78528052\n",
      "  -7.59554635  -5.07706875  -5.08529605  -6.48389324  -6.2159669\n",
      "  -3.84599497  -7.60442827  -5.35907272  -6.94315363  -6.85422105\n",
      "  -4.25869262  -4.85693173  -4.90887949  -3.86745733  -6.40992645\n",
      "  -5.09120996  -6.91463518  -5.66418443  -6.51236368  -6.26990152\n",
      "  -5.32355312  -7.97019589  -2.25688653  -8.47422006  -8.87531968\n",
      "  -4.01248516  -4.81676265  -5.10006664  -5.14229283  -6.51841444\n",
      "  -8.01782036  -6.32989116  -7.76479246  -4.3780751   -6.65706113\n",
      "  -8.00607902  -6.98102725  -5.43899801  -7.33649581  -8.0595834\n",
      "  -5.94561675  -5.66142626  -7.56258213  -7.45708679  -5.94189232\n",
      "  -9.45225203  -9.28900231  -7.68734188  -6.62751791  -5.56093638\n",
      "  -3.42003653  -4.7355702   -6.82431478  -6.67446958  -8.37764681\n",
      "  -6.1267381   -7.02944288  -5.69053575  -8.04541208  -4.752054\n",
      "  -3.37564527  -6.40893849  -5.46342012  -5.03955591  -7.27916706\n",
      "  -5.94631688  -6.56284457  -5.7822579   -7.75961195  -6.15219324\n",
      "  -5.24201972  -3.31512714  -4.35451144  -2.19084714  -7.69572129\n",
      "  -4.6611234   -5.9424852   -1.72778902  -7.93952527  -7.86851905\n",
      "  -7.56135375 -10.44271533  -7.13728366  -7.98099761  -5.94246833\n",
      "  -5.63602772  -2.68767139  -4.34760302  -7.49870491  -8.16244436\n",
      "  -5.34805639  -8.86531236  -2.4680419   -3.92132224  -7.13926156\n",
      "  -9.76959097  -3.55007859  -6.68907181  -4.00565964  -9.47768489\n",
      "  -7.55839764  -6.25127365  -6.10631304  -6.96169079  -5.13552654\n",
      "  -8.31541432  -6.45831998  -6.06370596  -5.18537073  -4.85402602\n",
      "  -8.52943701  -9.37406919  -3.86721366  -5.12490793  -7.73092573\n",
      "  -3.29732395  -6.01366643  -3.98990228  -6.19783641  -2.3354016\n",
      "  -2.59275496  -6.52937794  -4.26625201  -5.13913624  -3.60170117\n",
      "  -8.16800282  -4.56430112  -3.81955507  -9.41928853  -8.26832658\n",
      " -10.481559    -6.96476245  -4.95108432  -3.27223253  -6.40962832\n",
      "  -3.31576611  -8.49453781  -9.62117725  -6.22616305  -5.44628147\n",
      "  -6.35392972 -10.50016595  -6.55651724  -8.83428725  -5.25284183\n",
      "  -5.23733991  -8.30792489  -7.12437851  -8.34040753  -6.46909694\n",
      "  -4.37862615  -8.48022526  -5.47957207  -7.46102984  -8.00666359\n",
      "  -6.51606626  -8.37249018  -7.19670516  -8.48058575  -2.5915054\n",
      "  -6.07595025  -7.63170953  -6.0144935   -6.52888055  -6.80454344\n",
      "  -5.18104437  -4.82127721  -7.57643998  -7.66707417  -7.00618923\n",
      " -10.87025568  -9.42257406  -3.68552275  -2.87516662  -6.86156821\n",
      "  -5.17893232  -5.67938006  -0.18261053  -4.17415279  -6.62664793\n",
      "  -8.1191552   -9.50538322  -5.92096179  -7.4754379   -8.98526717\n",
      "  -7.50622903  -8.14913133  -2.9466962   -4.79229893  -6.42799882\n",
      "  -3.74100873  -6.04133522  -8.15862239  -3.28876473  -5.35184442\n",
      "  -7.30665667  -6.81388101  -8.31005713  -8.95844988  -4.41943335\n",
      "  -2.56007518  -9.09315258  -5.30619854  -7.8260541   -7.54832154\n",
      "  -7.59404674  -7.54006801  -6.10823263  -8.21714873  -5.45094152\n",
      "  -6.4985542   -7.15152545  -8.36059795  -7.38415442  -4.76676634\n",
      "  -5.52393095  -8.32035041  -6.04514023  -4.54421912  -9.67748281\n",
      "  -5.20721113  -8.01662796  -4.83643638  -7.48394411  -9.97220631\n",
      "  -9.66283479  -6.28637149  -5.97469843  -7.82971053  -4.96799946\n",
      "  -9.64418283  -6.68422445  -8.77270196  -7.83476587  -6.49087701\n",
      "  -7.76133427  -7.14310901  -4.18852499  -7.37901468  -4.41571412\n",
      "  -8.66745758  -5.21533984  -3.32537929 -11.24616162  -8.06875214\n",
      "  -5.10834515  -6.75137158  -5.53383662  -7.45680099  -6.15333922\n",
      "  -6.69953344  -3.52655429  -5.77262625  -5.79583272  -7.16498681\n",
      "  -7.26246134  -7.15439634  -5.46284576  -7.19943558  -5.58502176\n",
      "  -2.00770529  -4.60142851  -6.78711593  -3.79202707  -7.13995716\n",
      " -10.27440392  -8.26350303 -10.14220582  -7.06879451  -6.32680039\n",
      "  -3.00129589  -5.84737653  -6.57551218  -3.5763972  -10.5524753\n",
      "  -5.83627937  -4.87985252  -9.41491567  -4.14152425  -5.65958217\n",
      "  -7.16897124  -5.16265322  -1.7622437   -5.85916572  -5.87150879\n",
      "  -7.21718535  -8.11850252  -4.73968224  -8.18200563  -6.36985339\n",
      "  -7.2720642   -5.23780164  -5.71749335  -4.14957611  -7.39256049\n",
      "  -6.81952304  -8.42998869  -7.11165891  -5.17968738  -4.65190417\n",
      "  -8.19511766  -4.47722719  -3.70218746  -5.37138182  -2.63132084\n",
      "  -7.68204281  -8.44054901  -9.84750355  -3.50065489  -5.26564226\n",
      "  -6.53912673  -5.64428591  -8.53276638  -1.6554871   -6.19739588\n",
      "  -6.20827655  -4.67944547  -5.32008669  -6.03185373  -7.99404892\n",
      "  -5.15962805  -2.5651612   -3.46077808  -2.89508221  -7.33486698\n",
      "  -8.01928375  -6.46351566  -6.20177624  -3.91966758  -9.63374474\n",
      "  -3.09068939  -6.49217799  -6.99753937  -8.08976345  -9.60023792\n",
      "  -4.39392174  -5.81167747  -8.77542519  -8.84309335  -6.99907716\n",
      "  -2.79094399  -6.69549373  -9.09888044  -6.69932884  -6.79150284\n",
      " -11.51398496  -6.39160724  -6.69667433  -4.92813399  -2.58290814\n",
      "  -4.01022416  -7.06796121  -8.59323372  -1.29481885  -6.24671085\n",
      "  -6.36231143  -6.13551061  -5.8746119   -6.7075635   -7.57761498\n",
      "  -7.51994197  -6.47078038  -7.33825035  -7.33311069  -6.01026883\n",
      "  -6.7833802   -3.44547861 -11.47404441  -4.30924164  -3.97619851\n",
      " -10.39137875  -6.926247    -7.01321078  -9.12868375  -7.86418126\n",
      "  -8.56203828  -2.59017461  -4.26999045  -3.70337836  -4.70273844\n",
      "  -8.47064883  -7.16230183  -5.4795467   -8.78826022  -4.88888751\n",
      "  -6.8145481   -6.9620124   -4.60670615  -4.93014344  -7.0066748\n",
      "  -3.97025247  -8.37988396  -4.97964621  -4.94409239  -6.83595964\n",
      "  -5.79639179  -8.95599629  -4.61635511  -6.73876033  -7.49378077\n",
      "  -4.31799263  -7.65409044  -9.27181865  -9.06441376  -4.80649428\n",
      "  -9.02563169  -2.99253167 -10.53531234  -2.78390157  -5.86339621\n",
      "  -6.45080375  -7.18682616  -5.53062837  -5.90527299  -3.82255791\n",
      "  -6.14739371  -6.21489887  -6.84134111  -6.52337075  -5.67668274]\n"
     ]
    }
   ],
   "source": [
    "print(y)"
   ]
  },
  {
   "cell_type": "code",
   "outputs": [
    {
     "name": "stdout",
     "output_type": "stream",
     "text": [
      "(700, 21)\n",
      "(700,)\n"
     ]
    },
    {
     "data": {
      "text/plain": "RidgeCV(alphas=array([   1.,    2.,    3.,    4.,    5.,    6.,    7.,    8.,    9.,\n         10.,   11.,   12.,   13.,   14.,   15.,   16.,   17.,   18.,\n         19.,   20.,   21.,   22.,   23.,   24.,   25.,   26.,   27.,\n         28.,   29.,   30.,   31.,   32.,   33.,   34.,   35.,   36.,\n         37.,   38.,   39.,   40.,   41.,   42.,   43.,   44.,   45.,\n         46.,   47.,   48.,   49.,   50.,   51.,   52.,   53.,   54.,\n         55.,   56.,   57.,   58.,   59.,   60.,   61.,   62.,   63.,\n         64.,   65.,   66.,   67.,   68.,   69.,   70.,   71.,   72.,\n         73.,   74.,   75.,   76.,   77.,   78.,   79.,   80.,   81.,\n         82.,   83.,   84.,   8...\n        928.,  929.,  930.,  931.,  932.,  933.,  934.,  935.,  936.,\n        937.,  938.,  939.,  940.,  941.,  942.,  943.,  944.,  945.,\n        946.,  947.,  948.,  949.,  950.,  951.,  952.,  953.,  954.,\n        955.,  956.,  957.,  958.,  959.,  960.,  961.,  962.,  963.,\n        964.,  965.,  966.,  967.,  968.,  969.,  970.,  971.,  972.,\n        973.,  974.,  975.,  976.,  977.,  978.,  979.,  980.,  981.,\n        982.,  983.,  984.,  985.,  986.,  987.,  988.,  989.,  990.,\n        991.,  992.,  993.,  994.,  995.,  996.,  997.,  998.,  999.,\n       1000.]),\n        cv=10, fit_intercept=False)",
      "text/html": "<style>#sk-container-id-1 {color: black;}#sk-container-id-1 pre{padding: 0;}#sk-container-id-1 div.sk-toggleable {background-color: white;}#sk-container-id-1 label.sk-toggleable__label {cursor: pointer;display: block;width: 100%;margin-bottom: 0;padding: 0.3em;box-sizing: border-box;text-align: center;}#sk-container-id-1 label.sk-toggleable__label-arrow:before {content: \"▸\";float: left;margin-right: 0.25em;color: #696969;}#sk-container-id-1 label.sk-toggleable__label-arrow:hover:before {color: black;}#sk-container-id-1 div.sk-estimator:hover label.sk-toggleable__label-arrow:before {color: black;}#sk-container-id-1 div.sk-toggleable__content {max-height: 0;max-width: 0;overflow: hidden;text-align: left;background-color: #f0f8ff;}#sk-container-id-1 div.sk-toggleable__content pre {margin: 0.2em;color: black;border-radius: 0.25em;background-color: #f0f8ff;}#sk-container-id-1 input.sk-toggleable__control:checked~div.sk-toggleable__content {max-height: 200px;max-width: 100%;overflow: auto;}#sk-container-id-1 input.sk-toggleable__control:checked~label.sk-toggleable__label-arrow:before {content: \"▾\";}#sk-container-id-1 div.sk-estimator input.sk-toggleable__control:checked~label.sk-toggleable__label {background-color: #d4ebff;}#sk-container-id-1 div.sk-label input.sk-toggleable__control:checked~label.sk-toggleable__label {background-color: #d4ebff;}#sk-container-id-1 input.sk-hidden--visually {border: 0;clip: rect(1px 1px 1px 1px);clip: rect(1px, 1px, 1px, 1px);height: 1px;margin: -1px;overflow: hidden;padding: 0;position: absolute;width: 1px;}#sk-container-id-1 div.sk-estimator {font-family: monospace;background-color: #f0f8ff;border: 1px dotted black;border-radius: 0.25em;box-sizing: border-box;margin-bottom: 0.5em;}#sk-container-id-1 div.sk-estimator:hover {background-color: #d4ebff;}#sk-container-id-1 div.sk-parallel-item::after {content: \"\";width: 100%;border-bottom: 1px solid gray;flex-grow: 1;}#sk-container-id-1 div.sk-label:hover label.sk-toggleable__label {background-color: #d4ebff;}#sk-container-id-1 div.sk-serial::before {content: \"\";position: absolute;border-left: 1px solid gray;box-sizing: border-box;top: 0;bottom: 0;left: 50%;z-index: 0;}#sk-container-id-1 div.sk-serial {display: flex;flex-direction: column;align-items: center;background-color: white;padding-right: 0.2em;padding-left: 0.2em;position: relative;}#sk-container-id-1 div.sk-item {position: relative;z-index: 1;}#sk-container-id-1 div.sk-parallel {display: flex;align-items: stretch;justify-content: center;background-color: white;position: relative;}#sk-container-id-1 div.sk-item::before, #sk-container-id-1 div.sk-parallel-item::before {content: \"\";position: absolute;border-left: 1px solid gray;box-sizing: border-box;top: 0;bottom: 0;left: 50%;z-index: -1;}#sk-container-id-1 div.sk-parallel-item {display: flex;flex-direction: column;z-index: 1;position: relative;background-color: white;}#sk-container-id-1 div.sk-parallel-item:first-child::after {align-self: flex-end;width: 50%;}#sk-container-id-1 div.sk-parallel-item:last-child::after {align-self: flex-start;width: 50%;}#sk-container-id-1 div.sk-parallel-item:only-child::after {width: 0;}#sk-container-id-1 div.sk-dashed-wrapped {border: 1px dashed gray;margin: 0 0.4em 0.5em 0.4em;box-sizing: border-box;padding-bottom: 0.4em;background-color: white;}#sk-container-id-1 div.sk-label label {font-family: monospace;font-weight: bold;display: inline-block;line-height: 1.2em;}#sk-container-id-1 div.sk-label-container {text-align: center;}#sk-container-id-1 div.sk-container {/* jupyter's `normalize.less` sets `[hidden] { display: none; }` but bootstrap.min.css set `[hidden] { display: none !important; }` so we also need the `!important` here to be able to override the default hidden behavior on the sphinx rendered scikit-learn.org. See: https://github.com/scikit-learn/scikit-learn/issues/21755 */display: inline-block !important;position: relative;}#sk-container-id-1 div.sk-text-repr-fallback {display: none;}</style><div id=\"sk-container-id-1\" class=\"sk-top-container\"><div class=\"sk-text-repr-fallback\"><pre>RidgeCV(alphas=array([   1.,    2.,    3.,    4.,    5.,    6.,    7.,    8.,    9.,\n         10.,   11.,   12.,   13.,   14.,   15.,   16.,   17.,   18.,\n         19.,   20.,   21.,   22.,   23.,   24.,   25.,   26.,   27.,\n         28.,   29.,   30.,   31.,   32.,   33.,   34.,   35.,   36.,\n         37.,   38.,   39.,   40.,   41.,   42.,   43.,   44.,   45.,\n         46.,   47.,   48.,   49.,   50.,   51.,   52.,   53.,   54.,\n         55.,   56.,   57.,   58.,   59.,   60.,   61.,   62.,   63.,\n         64.,   65.,   66.,   67.,   68.,   69.,   70.,   71.,   72.,\n         73.,   74.,   75.,   76.,   77.,   78.,   79.,   80.,   81.,\n         82.,   83.,   84.,   8...\n        928.,  929.,  930.,  931.,  932.,  933.,  934.,  935.,  936.,\n        937.,  938.,  939.,  940.,  941.,  942.,  943.,  944.,  945.,\n        946.,  947.,  948.,  949.,  950.,  951.,  952.,  953.,  954.,\n        955.,  956.,  957.,  958.,  959.,  960.,  961.,  962.,  963.,\n        964.,  965.,  966.,  967.,  968.,  969.,  970.,  971.,  972.,\n        973.,  974.,  975.,  976.,  977.,  978.,  979.,  980.,  981.,\n        982.,  983.,  984.,  985.,  986.,  987.,  988.,  989.,  990.,\n        991.,  992.,  993.,  994.,  995.,  996.,  997.,  998.,  999.,\n       1000.]),\n        cv=10, fit_intercept=False)</pre><b>In a Jupyter environment, please rerun this cell to show the HTML representation or trust the notebook. <br />On GitHub, the HTML representation is unable to render, please try loading this page with nbviewer.org.</b></div><div class=\"sk-container\" hidden><div class=\"sk-item\"><div class=\"sk-estimator sk-toggleable\"><input class=\"sk-toggleable__control sk-hidden--visually\" id=\"sk-estimator-id-1\" type=\"checkbox\" checked><label for=\"sk-estimator-id-1\" class=\"sk-toggleable__label sk-toggleable__label-arrow\">RidgeCV</label><div class=\"sk-toggleable__content\"><pre>RidgeCV(alphas=array([   1.,    2.,    3.,    4.,    5.,    6.,    7.,    8.,    9.,\n         10.,   11.,   12.,   13.,   14.,   15.,   16.,   17.,   18.,\n         19.,   20.,   21.,   22.,   23.,   24.,   25.,   26.,   27.,\n         28.,   29.,   30.,   31.,   32.,   33.,   34.,   35.,   36.,\n         37.,   38.,   39.,   40.,   41.,   42.,   43.,   44.,   45.,\n         46.,   47.,   48.,   49.,   50.,   51.,   52.,   53.,   54.,\n         55.,   56.,   57.,   58.,   59.,   60.,   61.,   62.,   63.,\n         64.,   65.,   66.,   67.,   68.,   69.,   70.,   71.,   72.,\n         73.,   74.,   75.,   76.,   77.,   78.,   79.,   80.,   81.,\n         82.,   83.,   84.,   8...\n        928.,  929.,  930.,  931.,  932.,  933.,  934.,  935.,  936.,\n        937.,  938.,  939.,  940.,  941.,  942.,  943.,  944.,  945.,\n        946.,  947.,  948.,  949.,  950.,  951.,  952.,  953.,  954.,\n        955.,  956.,  957.,  958.,  959.,  960.,  961.,  962.,  963.,\n        964.,  965.,  966.,  967.,  968.,  969.,  970.,  971.,  972.,\n        973.,  974.,  975.,  976.,  977.,  978.,  979.,  980.,  981.,\n        982.,  983.,  984.,  985.,  986.,  987.,  988.,  989.,  990.,\n        991.,  992.,  993.,  994.,  995.,  996.,  997.,  998.,  999.,\n       1000.]),\n        cv=10, fit_intercept=False)</pre></div></div></div></div></div>"
     },
     "execution_count": 7,
     "metadata": {},
     "output_type": "execute_result"
    }
   ],
   "source": [
    "\n",
    "\"\"\"\n",
    "Use the transformed data points X_transformed and fit the linear regression on this \n",
    "transformed data. Finally, compute the weights of the fitted linear regression. \n",
    "\n",
    "Parameters\n",
    "----------\n",
    "X_transformed: array of floats: dim = (700,21), transformed input with 21 features\n",
    "y: array of floats, dim = (700,), input labels)\n",
    "\n",
    "Compute\n",
    "----------\n",
    "w: array of floats: dim = (21,), optimal parameters of linear regression\n",
    "\"\"\"\n",
    "w = np.zeros((21,))\n",
    "# TODO: Enter your code here\n",
    "# BASIC LR MODEL\n",
    "# lr  = sk.linear_model.LinearRegression(fit_intercept=False,copy_X=True)\n",
    "# lr.fit(X_transformed, y)\n",
    "# w = lr.coef_\n",
    "\n",
    "# RIDGE REGRESSION WITH CROSS VALIDATION\n",
    "alphas = np.linspace(1,1000,1000)\n",
    "# print(alphas)\n",
    "\n",
    "print(X_transformed.shape)\n",
    "print(y.shape)\n",
    "ridge_cv = sk.linear_model.RidgeCV(alphas=alphas,fit_intercept=False,scoring=None,cv=10)\n",
    "ridge_cv.fit(X_transformed,y)\n"
   ],
   "metadata": {
    "collapsed": false,
    "ExecuteTime": {
     "end_time": "2024-03-27T16:07:45.800631Z",
     "start_time": "2024-03-27T16:07:28.361853Z"
    }
   },
   "execution_count": 7
  },
  {
   "cell_type": "code",
   "outputs": [
    {
     "name": "stdout",
     "output_type": "stream",
     "text": [
      "[ 0.06449831 -0.09884167 -0.14747469  0.19652647  0.05569788 -0.05239186\n",
      "  0.01783679  0.02618931 -0.08156272  0.00343959 -0.55869393 -0.68727738\n",
      " -0.73227856 -0.43733622 -0.54000219 -0.57052333 -0.60541742 -0.60956833\n",
      " -0.55640414 -0.5981086  -0.59655942]\n"
     ]
    }
   ],
   "source": [
    "w = ridge_cv.coef_\n",
    "alph = ridge_cv.alpha_\n",
    "# print('w: ',w)\n",
    "# print('alpha: ',alph)\n",
    "\n",
    "# err = ridge_cv.predict(X_transformed) - y\n",
    "# print('err: ', err)\n",
    "\n",
    "assert w.shape == (21,)\n",
    "print(w)"
   ],
   "metadata": {
    "ExecuteTime": {
     "end_time": "2024-03-27T16:08:09.829592Z",
     "start_time": "2024-03-27T16:08:09.813191Z"
    }
   },
   "execution_count": 12
  },
  {
   "cell_type": "code",
   "execution_count": 9,
   "metadata": {
    "ExecuteTime": {
     "end_time": "2024-03-27T16:07:45.837276Z",
     "start_time": "2024-03-27T16:07:45.805363Z"
    }
   },
   "outputs": [],
   "source": [
    "# Save results in the required format\n",
    "np.savetxt(\"./results.csv\", w, fmt=\"%.12f\")"
   ]
  }
 ],
 "metadata": {
  "kernelspec": {
   "display_name": ".venv",
   "language": "python",
   "name": "python3"
  },
  "language_info": {
   "codemirror_mode": {
    "name": "ipython",
    "version": 3
   },
   "file_extension": ".py",
   "mimetype": "text/x-python",
   "name": "python",
   "nbconvert_exporter": "python",
   "pygments_lexer": "ipython3",
   "version": "3.10.12"
  }
 },
 "nbformat": 4,
 "nbformat_minor": 2
}
