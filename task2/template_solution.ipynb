{
 "cells": [
  {
   "cell_type": "markdown",
   "id": "ad2e81b29c71eb2b",
   "metadata": {
    "collapsed": false
   },
   "source": [
    "# Task 2\n",
    "This serves as a template which will guide you through the implementation of this task. It is advised to first read the whole template and get a sense of the overall structure of the code before trying to fill in any of the TODO gaps.\n",
    "This is the jupyter notebook version of the template. For the python file version, please refer to the file `template_solution.py`."
   ]
  },
  {
   "cell_type": "markdown",
   "id": "6de347e31d213bd5",
   "metadata": {
    "collapsed": false
   },
   "source": [
    "First, we import necessary libraries:"
   ]
  },
  {
   "cell_type": "code",
   "execution_count": 6,
   "id": "9e071b8e282a8d6b",
   "metadata": {
    "collapsed": false,
    "ExecuteTime": {
     "end_time": "2024-04-22T19:24:26.852530Z",
     "start_time": "2024-04-22T19:24:26.360241Z"
    }
   },
   "outputs": [],
   "source": [
    "import numpy as np\n",
    "import pandas as pd\n",
    "from sklearn.impute import SimpleImputer\n",
    "\n",
    "# Add any other imports you need here"
   ]
  },
  {
   "cell_type": "markdown",
   "id": "918f2086e18dd7b5",
   "metadata": {
    "collapsed": false
   },
   "source": [
    "# Data Loading\n",
    "TODO: Perform data preprocessing, imputation and extract X_train, y_train and X_test\n",
    "(and potentially change initialization of variables to accomodate how you deal with non-numeric data)"
   ]
  },
  {
   "cell_type": "code",
   "execution_count": 16,
   "id": "f72743a6b15f922a",
   "metadata": {
    "collapsed": false,
    "ExecuteTime": {
     "end_time": "2024-04-22T19:40:49.108721Z",
     "start_time": "2024-04-22T19:40:49.090379Z"
    }
   },
   "outputs": [
    {
     "name": "stdout",
     "output_type": "stream",
     "text": [
      "Training data:\n",
      "Shape: (900, 11)\n",
      "   season  price_AUS  price_CHF  price_CZE  price_GER  price_ESP  price_FRA  \\\n",
      "0  spring        NaN   9.644028  -1.686248  -1.748076  -3.666005        NaN   \n",
      "1  summer        NaN   7.246061  -2.132377  -2.054363  -3.295697  -4.104759   \n",
      "2  autumn  -2.101937   7.620085  -1.910282        NaN  -3.388777        NaN   \n",
      "3  winter  -2.098475   8.411894  -1.903834        NaN  -3.588235        NaN   \n",
      "4  spring  -1.969687   8.926884  -1.697257  -1.331049        NaN  -3.911096   \n",
      "\n",
      "   price_UK  price_ITA  price_POL  price_SVK  \n",
      "0 -1.822720  -3.931031        NaN  -3.238197  \n",
      "1 -1.826021        NaN        NaN  -3.212894  \n",
      "2 -2.034409  -4.073850        NaN  -3.114061  \n",
      "3 -2.214720  -4.018620  -2.330803        NaN  \n",
      "4 -2.388092  -4.093946        NaN        NaN  \n",
      "\n",
      "\n",
      "Test data:\n",
      "(100, 10)\n",
      "   season  price_AUS  price_CZE  price_GER  price_ESP  price_FRA  price_UK  \\\n",
      "0  spring        NaN   0.472985   0.707957        NaN  -1.136441 -0.596703   \n",
      "1  summer  -1.184837   0.358019        NaN  -3.199028  -1.069695       NaN   \n",
      "\n",
      "   price_ITA  price_POL  price_SVK  \n",
      "0        NaN   3.298693   1.921886  \n",
      "1  -1.420091   3.238307        NaN  \n"
     ]
    }
   ],
   "source": [
    "\"\"\"\n",
    "This loads the training and test data, preprocesses it, removes the NaN\n",
    "values and interpolates the missing data using imputation\n",
    "\n",
    "Parameters\n",
    "----------\n",
    "Compute\n",
    "----------\n",
    "X_train: matrix of floats, training input with features\n",
    "y_train: array of floats, training output with labels\n",
    "X_test: matrix of floats: dim = (100, ?), test input with features\n",
    "\"\"\"\n",
    "# Load training data\n",
    "train_df = pd.read_csv(\"train.csv\")\n",
    "    \n",
    "print(\"Training data:\")\n",
    "print(\"Shape:\", train_df.shape)\n",
    "print(train_df.head(5))\n",
    "print('\\n')\n",
    "    \n",
    "# Load test data\n",
    "test_df = pd.read_csv(\"test.csv\")\n",
    "\n",
    "print(\"Test data:\")\n",
    "print(test_df.shape)\n",
    "print(test_df.head(2))\n",
    "\n",
    "# Dummy initialization of the X_train, X_test and y_train   \n",
    "# TODO: Depending on how you deal with the non-numeric data, you may want to \n",
    "# modify/ignore the initialization of these variables   \n",
    "# \n",
    "# X_train = np.zeros_like(train_df.drop(['price_CHF'],axis=1))\n",
    "# y_train = np.zeros_like(train_df['price_CHF'])\n",
    "# X_test = np.zeros_like(test_df)\n",
    "\n",
    "# TODO: Perform data preprocessing, imputation and extract X_train, y_train and X_test\n",
    "\n",
    "# assert (X_train.shape[1] == X_test.shape[1]) and (X_train.shape[0] == y_train.shape[0]) and (X_test.shape[0] == 100), \"Invalid data shape\""
   ]
  },
  {
   "cell_type": "code",
   "outputs": [
    {
     "name": "stdout",
     "output_type": "stream",
     "text": [
      "Xtrain =      season  price_AUS  price_CHF  price_CZE  price_GER  price_ESP  price_FRA  \\\n",
      "0    spring        NaN   9.644028  -1.686248  -1.748076  -3.666005        NaN   \n",
      "1    summer        NaN   7.246061  -2.132377  -2.054363  -3.295697  -4.104759   \n",
      "2    autumn  -2.101937   7.620085  -1.910282        NaN  -3.388777        NaN   \n",
      "3    winter  -2.098475   8.411894  -1.903834        NaN  -3.588235        NaN   \n",
      "4    spring  -1.969687   8.926884  -1.697257  -1.331049        NaN  -3.911096   \n",
      "..      ...        ...        ...        ...        ...        ...        ...   \n",
      "895  winter  -1.044730        NaN   0.190134   0.253153  -3.443941  -1.967611   \n",
      "896  spring  -1.061639  -1.734754   0.281646        NaN  -3.466753  -1.929701   \n",
      "897  summer  -0.971157        NaN   0.245279   0.558474        NaN        NaN   \n",
      "898  autumn        NaN        NaN   0.299911   0.788152  -3.339650        NaN   \n",
      "899  winter  -1.058343        NaN   0.231835   0.800460  -3.377680  -1.200493   \n",
      "\n",
      "     price_UK  price_ITA  price_POL  price_SVK  \n",
      "0   -1.822720  -3.931031        NaN  -3.238197  \n",
      "1   -1.826021        NaN        NaN  -3.212894  \n",
      "2   -2.034409  -4.073850        NaN  -3.114061  \n",
      "3   -2.214720  -4.018620  -2.330803        NaN  \n",
      "4   -2.388092  -4.093946        NaN        NaN  \n",
      "..        ...        ...        ...        ...  \n",
      "895       NaN  -1.838593   3.235645        NaN  \n",
      "896       NaN  -1.508756   3.187263        NaN  \n",
      "897 -0.843659  -1.499361   3.110638   2.230253  \n",
      "898 -0.865169  -1.547716   3.105417   1.989140  \n",
      "899       NaN        NaN   3.272816   2.080667  \n",
      "\n",
      "[900 rows x 11 columns]\n"
     ]
    }
   ],
   "source": [
    "X_train = train_df\n",
    "y_train = train_df['price_CHF']\n",
    "X_test = test_df\n",
    "print(\"Xtrain =\", X_train)\n",
    "imp = SimpleImputer(missing_values=np.nan, strategy='mean')\n"
   ],
   "metadata": {
    "collapsed": false,
    "ExecuteTime": {
     "end_time": "2024-04-22T19:53:52.356179Z",
     "start_time": "2024-04-22T19:53:52.341496Z"
    }
   },
   "id": "deee338e3633988b",
   "execution_count": 29
  },
  {
   "cell_type": "code",
   "outputs": [
    {
     "ename": "SyntaxError",
     "evalue": "invalid syntax (181917519.py, line 2)",
     "output_type": "error",
     "traceback": [
      "\u001B[0;36m  Cell \u001B[0;32mIn[30], line 2\u001B[0;36m\u001B[0m\n\u001B[0;31m    X_train = imp.transform(X_train)+\u001B[0m\n\u001B[0m                                     ^\u001B[0m\n\u001B[0;31mSyntaxError\u001B[0m\u001B[0;31m:\u001B[0m invalid syntax\n"
     ]
    }
   ],
   "source": [
    "imp.fit(X_train)\n",
    "X_train = imp.transform(X_train)\n",
    "print(\"Xtrain =\", X_train)\n"
   ],
   "metadata": {
    "collapsed": false,
    "ExecuteTime": {
     "end_time": "2024-04-22T19:54:07.909541Z",
     "start_time": "2024-04-22T19:54:07.907041Z"
    }
   },
   "id": "402e111cb0d70236",
   "execution_count": 30
  },
  {
   "cell_type": "markdown",
   "id": "959037466887e870",
   "metadata": {
    "collapsed": false
   },
   "source": [
    "# Modeling and Prediction\n",
    "TODO: Define the model and fit it using training data. Then, use test data to make predictions"
   ]
  },
  {
   "cell_type": "code",
   "execution_count": null,
   "id": "9fb0d86b605f9813",
   "metadata": {
    "collapsed": false
   },
   "outputs": [],
   "source": [
    "\"\"\"\n",
    "This defines the model, fits training data and then does the prediction\n",
    "with the test data \n",
    "\n",
    "Parameters\n",
    "----------\n",
    "X_train: matrix of floats, training input with 10 features\n",
    "y_train: array of floats, training output\n",
    "X_test: matrix of floats: dim = (100, ?), test input with 10 features\n",
    "\n",
    "Compute\n",
    "----------\n",
    "y_test: array of floats: dim = (100,), predictions on test set\n",
    "\"\"\"\n",
    "\n",
    "y_pred=np.zeros(X_test.shape[0])\n",
    "#TODO: Define the model and fit it using training data. Then, use test data to make predictions\n",
    "\n",
    "assert y_pred.shape == (100,), \"Invalid data shape\""
   ]
  },
  {
   "cell_type": "markdown",
   "id": "9c62e0cd4cec5a7e",
   "metadata": {
    "collapsed": false
   },
   "source": [
    "# Saving Results\n",
    "You don't have to change this"
   ]
  },
  {
   "cell_type": "code",
   "execution_count": null,
   "id": "382d87d2d67ddbdc",
   "metadata": {
    "collapsed": false
   },
   "outputs": [],
   "source": [
    "dt = pd.DataFrame(y_pred) \n",
    "dt.columns = ['price_CHF']\n",
    "dt.to_csv('results.csv', index=False)\n",
    "print(\"\\nResults file successfully generated!\")"
   ]
  }
 ],
 "metadata": {
  "kernelspec": {
   "display_name": "Python 3",
   "language": "python",
   "name": "python3"
  },
  "language_info": {
   "codemirror_mode": {
    "name": "ipython",
    "version": 2
   },
   "file_extension": ".py",
   "mimetype": "text/x-python",
   "name": "python",
   "nbconvert_exporter": "python",
   "pygments_lexer": "ipython2",
   "version": "2.7.6"
  }
 },
 "nbformat": 4,
 "nbformat_minor": 5
}
